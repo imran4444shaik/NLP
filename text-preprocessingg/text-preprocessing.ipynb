{
 "cells": [
  {
   "cell_type": "code",
   "execution_count": 1,
   "metadata": {
    "_cell_guid": "b1076dfc-b9ad-4769-8c92-a6c4dae69d19",
    "_uuid": "8f2839f25d086af736a60e9eeb907d3b93b6e0e5",
    "execution": {
     "iopub.execute_input": "2025-07-31T05:37:27.821409Z",
     "iopub.status.busy": "2025-07-31T05:37:27.820998Z",
     "iopub.status.idle": "2025-07-31T05:37:27.861693Z",
     "shell.execute_reply": "2025-07-31T05:37:27.860666Z",
     "shell.execute_reply.started": "2025-07-31T05:37:27.821274Z"
    },
    "trusted": true
   },
   "outputs": [
    {
     "name": "stdout",
     "output_type": "stream",
     "text": [
      "/kaggle/input/imdb-dataset-of-50k-movie-reviews/IMDB Dataset.csv\n"
     ]
    }
   ],
   "source": [
    "# This Python 3 environment comes with many helpful analytics libraries installed\n",
    "# It is defined by the kaggle/python Docker image: https://github.com/kaggle/docker-python\n",
    "# For example, here's several helpful packages to load\n",
    "\n",
    "import numpy as np # linear algebra\n",
    "import pandas as pd # data processing, CSV file I/O (e.g. pd.read_csv)\n",
    "\n",
    "# Input data files are available in the read-only \"../input/\" directory\n",
    "# For example, running this (by clicking run or pressing Shift+Enter) will list all files under the input directory\n",
    "\n",
    "import os\n",
    "for dirname, _, filenames in os.walk('/kaggle/input'):\n",
    "    for filename in filenames:\n",
    "        print(os.path.join(dirname, filename))\n",
    "\n",
    "# You can write up to 20GB to the current directory (/kaggle/working/) that gets preserved as output when you create a version using \"Save & Run All\" \n",
    "# You can also write temporary files to /kaggle/temp/, but they won't be saved outside of the current session"
   ]
  },
  {
   "cell_type": "code",
   "execution_count": 2,
   "metadata": {
    "execution": {
     "iopub.execute_input": "2025-07-31T05:37:27.863822Z",
     "iopub.status.busy": "2025-07-31T05:37:27.863526Z",
     "iopub.status.idle": "2025-07-31T05:37:29.683294Z",
     "shell.execute_reply": "2025-07-31T05:37:29.681918Z",
     "shell.execute_reply.started": "2025-07-31T05:37:27.863759Z"
    },
    "trusted": true
   },
   "outputs": [],
   "source": [
    "df = pd.read_csv('/kaggle/input/imdb-dataset-of-50k-movie-reviews/IMDB Dataset.csv')"
   ]
  },
  {
   "cell_type": "code",
   "execution_count": 3,
   "metadata": {
    "execution": {
     "iopub.execute_input": "2025-07-31T05:37:29.685134Z",
     "iopub.status.busy": "2025-07-31T05:37:29.684883Z",
     "iopub.status.idle": "2025-07-31T05:37:29.697516Z",
     "shell.execute_reply": "2025-07-31T05:37:29.695983Z",
     "shell.execute_reply.started": "2025-07-31T05:37:29.685106Z"
    },
    "trusted": true
   },
   "outputs": [
    {
     "data": {
      "text/plain": [
       "(50000, 2)"
      ]
     },
     "execution_count": 3,
     "metadata": {},
     "output_type": "execute_result"
    }
   ],
   "source": [
    "df.shape"
   ]
  },
  {
   "cell_type": "code",
   "execution_count": 4,
   "metadata": {
    "execution": {
     "iopub.execute_input": "2025-07-31T05:37:29.700210Z",
     "iopub.status.busy": "2025-07-31T05:37:29.699913Z",
     "iopub.status.idle": "2025-07-31T05:37:29.739955Z",
     "shell.execute_reply": "2025-07-31T05:37:29.737843Z",
     "shell.execute_reply.started": "2025-07-31T05:37:29.700174Z"
    },
    "trusted": true
   },
   "outputs": [
    {
     "data": {
      "text/html": [
       "<div>\n",
       "<style scoped>\n",
       "    .dataframe tbody tr th:only-of-type {\n",
       "        vertical-align: middle;\n",
       "    }\n",
       "\n",
       "    .dataframe tbody tr th {\n",
       "        vertical-align: top;\n",
       "    }\n",
       "\n",
       "    .dataframe thead th {\n",
       "        text-align: right;\n",
       "    }\n",
       "</style>\n",
       "<table border=\"1\" class=\"dataframe\">\n",
       "  <thead>\n",
       "    <tr style=\"text-align: right;\">\n",
       "      <th></th>\n",
       "      <th>review</th>\n",
       "      <th>sentiment</th>\n",
       "    </tr>\n",
       "  </thead>\n",
       "  <tbody>\n",
       "    <tr>\n",
       "      <th>0</th>\n",
       "      <td>One of the other reviewers has mentioned that ...</td>\n",
       "      <td>positive</td>\n",
       "    </tr>\n",
       "    <tr>\n",
       "      <th>1</th>\n",
       "      <td>A wonderful little production. &lt;br /&gt;&lt;br /&gt;The...</td>\n",
       "      <td>positive</td>\n",
       "    </tr>\n",
       "    <tr>\n",
       "      <th>2</th>\n",
       "      <td>I thought this was a wonderful way to spend ti...</td>\n",
       "      <td>positive</td>\n",
       "    </tr>\n",
       "    <tr>\n",
       "      <th>3</th>\n",
       "      <td>Basically there's a family where a little boy ...</td>\n",
       "      <td>negative</td>\n",
       "    </tr>\n",
       "    <tr>\n",
       "      <th>4</th>\n",
       "      <td>Petter Mattei's \"Love in the Time of Money\" is...</td>\n",
       "      <td>positive</td>\n",
       "    </tr>\n",
       "  </tbody>\n",
       "</table>\n",
       "</div>"
      ],
      "text/plain": [
       "                                              review sentiment\n",
       "0  One of the other reviewers has mentioned that ...  positive\n",
       "1  A wonderful little production. <br /><br />The...  positive\n",
       "2  I thought this was a wonderful way to spend ti...  positive\n",
       "3  Basically there's a family where a little boy ...  negative\n",
       "4  Petter Mattei's \"Love in the Time of Money\" is...  positive"
      ]
     },
     "execution_count": 4,
     "metadata": {},
     "output_type": "execute_result"
    }
   ],
   "source": [
    "df.head()"
   ]
  },
  {
   "cell_type": "markdown",
   "metadata": {},
   "source": [
    "**1. Lowercasing**\n",
    "\n",
    "• What it is: Converting all characters in the text document to lowercase.\n",
    "\n",
    "• Why it's done: To avoid issues where the same word is treated as different due to varying capitalization (e.g., \"Basically\" vs. \"basically\"), which adds unnecessary complexity to the model.\n",
    "\n",
    "• How it's done: Typically using simple string methods like .lower() in Python."
   ]
  },
  {
   "cell_type": "code",
   "execution_count": 5,
   "metadata": {
    "execution": {
     "iopub.execute_input": "2025-07-31T05:37:29.742378Z",
     "iopub.status.busy": "2025-07-31T05:37:29.742024Z",
     "iopub.status.idle": "2025-07-31T05:37:29.762027Z",
     "shell.execute_reply": "2025-07-31T05:37:29.760964Z",
     "shell.execute_reply.started": "2025-07-31T05:37:29.742341Z"
    },
    "trusted": true
   },
   "outputs": [
    {
     "data": {
      "text/plain": [
       "\"Basically there's a family where a little boy (Jake) thinks there's a zombie in his closet & his parents are fighting all the time.<br /><br />This movie is slower than a soap opera... and suddenly, Jake decides to become Rambo and kill the zombie.<br /><br />OK, first of all when you're going to make a film you must Decide if its a thriller or a drama! As a drama the movie is watchable. Parents are divorcing & arguing like in real life. And then we have Jake with his closet which totally ruins all the film! I expected to see a BOOGEYMAN similar movie, and instead i watched a drama with some meaningless thriller spots.<br /><br />3 out of 10 just for the well playing parents & descent dialogs. As for the shots with Jake: just ignore them.\""
      ]
     },
     "execution_count": 5,
     "metadata": {},
     "output_type": "execute_result"
    }
   ],
   "source": [
    "df['review'][3]"
   ]
  },
  {
   "cell_type": "code",
   "execution_count": 6,
   "metadata": {
    "execution": {
     "iopub.execute_input": "2025-07-31T05:37:29.763885Z",
     "iopub.status.busy": "2025-07-31T05:37:29.763575Z",
     "iopub.status.idle": "2025-07-31T05:37:29.797748Z",
     "shell.execute_reply": "2025-07-31T05:37:29.795499Z",
     "shell.execute_reply.started": "2025-07-31T05:37:29.763828Z"
    },
    "trusted": true
   },
   "outputs": [
    {
     "data": {
      "text/plain": [
       "\"basically there's a family where a little boy (jake) thinks there's a zombie in his closet & his parents are fighting all the time.<br /><br />this movie is slower than a soap opera... and suddenly, jake decides to become rambo and kill the zombie.<br /><br />ok, first of all when you're going to make a film you must decide if its a thriller or a drama! as a drama the movie is watchable. parents are divorcing & arguing like in real life. and then we have jake with his closet which totally ruins all the film! i expected to see a boogeyman similar movie, and instead i watched a drama with some meaningless thriller spots.<br /><br />3 out of 10 just for the well playing parents & descent dialogs. as for the shots with jake: just ignore them.\""
      ]
     },
     "execution_count": 6,
     "metadata": {},
     "output_type": "execute_result"
    }
   ],
   "source": [
    "df['review'][3].lower()"
   ]
  },
  {
   "cell_type": "code",
   "execution_count": 7,
   "metadata": {
    "execution": {
     "iopub.execute_input": "2025-07-31T05:37:29.799462Z",
     "iopub.status.busy": "2025-07-31T05:37:29.799212Z",
     "iopub.status.idle": "2025-07-31T05:37:30.032830Z",
     "shell.execute_reply": "2025-07-31T05:37:30.031249Z",
     "shell.execute_reply.started": "2025-07-31T05:37:29.799435Z"
    },
    "trusted": true
   },
   "outputs": [],
   "source": [
    "#To convert entire dataframe to lower\n",
    "df['review'] = df['review'].str.lower()"
   ]
  },
  {
   "cell_type": "code",
   "execution_count": 8,
   "metadata": {
    "execution": {
     "iopub.execute_input": "2025-07-31T05:37:30.035040Z",
     "iopub.status.busy": "2025-07-31T05:37:30.034709Z",
     "iopub.status.idle": "2025-07-31T05:37:30.050316Z",
     "shell.execute_reply": "2025-07-31T05:37:30.048897Z",
     "shell.execute_reply.started": "2025-07-31T05:37:30.034990Z"
    },
    "trusted": true
   },
   "outputs": [
    {
     "data": {
      "text/html": [
       "<div>\n",
       "<style scoped>\n",
       "    .dataframe tbody tr th:only-of-type {\n",
       "        vertical-align: middle;\n",
       "    }\n",
       "\n",
       "    .dataframe tbody tr th {\n",
       "        vertical-align: top;\n",
       "    }\n",
       "\n",
       "    .dataframe thead th {\n",
       "        text-align: right;\n",
       "    }\n",
       "</style>\n",
       "<table border=\"1\" class=\"dataframe\">\n",
       "  <thead>\n",
       "    <tr style=\"text-align: right;\">\n",
       "      <th></th>\n",
       "      <th>review</th>\n",
       "      <th>sentiment</th>\n",
       "    </tr>\n",
       "  </thead>\n",
       "  <tbody>\n",
       "    <tr>\n",
       "      <th>0</th>\n",
       "      <td>one of the other reviewers has mentioned that ...</td>\n",
       "      <td>positive</td>\n",
       "    </tr>\n",
       "    <tr>\n",
       "      <th>1</th>\n",
       "      <td>a wonderful little production. &lt;br /&gt;&lt;br /&gt;the...</td>\n",
       "      <td>positive</td>\n",
       "    </tr>\n",
       "    <tr>\n",
       "      <th>2</th>\n",
       "      <td>i thought this was a wonderful way to spend ti...</td>\n",
       "      <td>positive</td>\n",
       "    </tr>\n",
       "    <tr>\n",
       "      <th>3</th>\n",
       "      <td>basically there's a family where a little boy ...</td>\n",
       "      <td>negative</td>\n",
       "    </tr>\n",
       "    <tr>\n",
       "      <th>4</th>\n",
       "      <td>petter mattei's \"love in the time of money\" is...</td>\n",
       "      <td>positive</td>\n",
       "    </tr>\n",
       "    <tr>\n",
       "      <th>...</th>\n",
       "      <td>...</td>\n",
       "      <td>...</td>\n",
       "    </tr>\n",
       "    <tr>\n",
       "      <th>49995</th>\n",
       "      <td>i thought this movie did a down right good job...</td>\n",
       "      <td>positive</td>\n",
       "    </tr>\n",
       "    <tr>\n",
       "      <th>49996</th>\n",
       "      <td>bad plot, bad dialogue, bad acting, idiotic di...</td>\n",
       "      <td>negative</td>\n",
       "    </tr>\n",
       "    <tr>\n",
       "      <th>49997</th>\n",
       "      <td>i am a catholic taught in parochial elementary...</td>\n",
       "      <td>negative</td>\n",
       "    </tr>\n",
       "    <tr>\n",
       "      <th>49998</th>\n",
       "      <td>i'm going to have to disagree with the previou...</td>\n",
       "      <td>negative</td>\n",
       "    </tr>\n",
       "    <tr>\n",
       "      <th>49999</th>\n",
       "      <td>no one expects the star trek movies to be high...</td>\n",
       "      <td>negative</td>\n",
       "    </tr>\n",
       "  </tbody>\n",
       "</table>\n",
       "<p>50000 rows × 2 columns</p>\n",
       "</div>"
      ],
      "text/plain": [
       "                                                  review sentiment\n",
       "0      one of the other reviewers has mentioned that ...  positive\n",
       "1      a wonderful little production. <br /><br />the...  positive\n",
       "2      i thought this was a wonderful way to spend ti...  positive\n",
       "3      basically there's a family where a little boy ...  negative\n",
       "4      petter mattei's \"love in the time of money\" is...  positive\n",
       "...                                                  ...       ...\n",
       "49995  i thought this movie did a down right good job...  positive\n",
       "49996  bad plot, bad dialogue, bad acting, idiotic di...  negative\n",
       "49997  i am a catholic taught in parochial elementary...  negative\n",
       "49998  i'm going to have to disagree with the previou...  negative\n",
       "49999  no one expects the star trek movies to be high...  negative\n",
       "\n",
       "[50000 rows x 2 columns]"
      ]
     },
     "execution_count": 8,
     "metadata": {},
     "output_type": "execute_result"
    }
   ],
   "source": [
    "df"
   ]
  },
  {
   "cell_type": "markdown",
   "metadata": {},
   "source": [
    "**2. Removing HTML Tags**\n",
    " \n",
    "• What it is: Eliminating HTML tags ( \\<p>, \\<body>, \\<br/>) from text data, which are often present when data is scraped from websites.\n",
    "\n",
    "• Why it's done: These tags are for browser display and do not contribute to the meaning or sentiment of the text for NLP models; keeping them can confuse the model."
   ]
  },
  {
   "cell_type": "code",
   "execution_count": 9,
   "metadata": {
    "execution": {
     "iopub.execute_input": "2025-07-31T05:37:30.052802Z",
     "iopub.status.busy": "2025-07-31T05:37:30.052271Z",
     "iopub.status.idle": "2025-07-31T05:37:30.067628Z",
     "shell.execute_reply": "2025-07-31T05:37:30.066617Z",
     "shell.execute_reply.started": "2025-07-31T05:37:30.052725Z"
    },
    "trusted": true
   },
   "outputs": [],
   "source": [
    "import re\n",
    "def remove_html_tags(text):\n",
    "    pattern = re.compile('<.*?>')\n",
    "    return pattern.sub(r'', text)"
   ]
  },
  {
   "cell_type": "code",
   "execution_count": 10,
   "metadata": {
    "execution": {
     "iopub.execute_input": "2025-07-31T05:37:30.073618Z",
     "iopub.status.busy": "2025-07-31T05:37:30.072653Z",
     "iopub.status.idle": "2025-07-31T05:37:30.092070Z",
     "shell.execute_reply": "2025-07-31T05:37:30.090226Z",
     "shell.execute_reply.started": "2025-07-31T05:37:30.073534Z"
    },
    "trusted": true
   },
   "outputs": [],
   "source": [
    "text = \"<html><body><p> Movie 1</p><p> Actor - Aamir Khan</p><p> Click here to <a href='http://google.com'>download</a></p></body></html>\""
   ]
  },
  {
   "cell_type": "code",
   "execution_count": 11,
   "metadata": {
    "execution": {
     "iopub.execute_input": "2025-07-31T05:37:30.094929Z",
     "iopub.status.busy": "2025-07-31T05:37:30.094304Z",
     "iopub.status.idle": "2025-07-31T05:37:30.119815Z",
     "shell.execute_reply": "2025-07-31T05:37:30.118439Z",
     "shell.execute_reply.started": "2025-07-31T05:37:30.094800Z"
    },
    "trusted": true
   },
   "outputs": [
    {
     "data": {
      "text/plain": [
       "' Movie 1 Actor - Aamir Khan Click here to download'"
      ]
     },
     "execution_count": 11,
     "metadata": {},
     "output_type": "execute_result"
    }
   ],
   "source": [
    "remove_html_tags(text)"
   ]
  },
  {
   "cell_type": "code",
   "execution_count": 12,
   "metadata": {
    "execution": {
     "iopub.execute_input": "2025-07-31T05:37:30.122606Z",
     "iopub.status.busy": "2025-07-31T05:37:30.122349Z",
     "iopub.status.idle": "2025-07-31T05:37:30.352505Z",
     "shell.execute_reply": "2025-07-31T05:37:30.351080Z",
     "shell.execute_reply.started": "2025-07-31T05:37:30.122580Z"
    },
    "trusted": true
   },
   "outputs": [],
   "source": [
    "df['review'] = df['review'].apply(remove_html_tags)"
   ]
  },
  {
   "cell_type": "code",
   "execution_count": 13,
   "metadata": {
    "execution": {
     "iopub.execute_input": "2025-07-31T05:37:30.354755Z",
     "iopub.status.busy": "2025-07-31T05:37:30.354485Z",
     "iopub.status.idle": "2025-07-31T05:37:30.366801Z",
     "shell.execute_reply": "2025-07-31T05:37:30.365541Z",
     "shell.execute_reply.started": "2025-07-31T05:37:30.354724Z"
    },
    "trusted": true
   },
   "outputs": [
    {
     "data": {
      "text/plain": [
       "'probably my all-time favorite movie, a story of selflessness, sacrifice and dedication to a noble cause, but it\\'s not preachy or boring. it just never gets old, despite my having seen it some 15 or more times in the last 25 years. paul lukas\\' performance brings tears to my eyes, and bette davis, in one of her very few truly sympathetic roles, is a delight. the kids are, as grandma says, more like \"dressed-up midgets\" than children, but that only makes them more fun to watch. and the mother\\'s slow awakening to what\\'s happening in the world and under her own roof is believable and startling. if i had a dozen thumbs, they\\'d all be \"up\" for this movie.'"
      ]
     },
     "execution_count": 13,
     "metadata": {},
     "output_type": "execute_result"
    }
   ],
   "source": [
    "df['review'][5]"
   ]
  },
  {
   "cell_type": "markdown",
   "metadata": {},
   "source": [
    "**3. Removing URLs**\n",
    " \n",
    "• What it is: Deleting URLs (e.g., http://, https://, www.) from the text.\n",
    "\n",
    "• Why it's done: URLs usually don't contribute significantly to the sentiment or classification of text in many NLP tasks and can potentially confuse the model."
   ]
  },
  {
   "cell_type": "code",
   "execution_count": 14,
   "metadata": {
    "execution": {
     "iopub.execute_input": "2025-07-31T05:37:30.368819Z",
     "iopub.status.busy": "2025-07-31T05:37:30.368454Z",
     "iopub.status.idle": "2025-07-31T05:37:30.384898Z",
     "shell.execute_reply": "2025-07-31T05:37:30.383741Z",
     "shell.execute_reply.started": "2025-07-31T05:37:30.368753Z"
    },
    "trusted": true
   },
   "outputs": [],
   "source": [
    "def remove_url(text):\n",
    "    pattern = re.compile(r'https?://\\S+|www\\.\\S+')\n",
    "    return pattern.sub(r'', text)"
   ]
  },
  {
   "cell_type": "code",
   "execution_count": 15,
   "metadata": {
    "execution": {
     "iopub.execute_input": "2025-07-31T05:37:30.387171Z",
     "iopub.status.busy": "2025-07-31T05:37:30.386826Z",
     "iopub.status.idle": "2025-07-31T05:37:30.406606Z",
     "shell.execute_reply": "2025-07-31T05:37:30.405521Z",
     "shell.execute_reply.started": "2025-07-31T05:37:30.387113Z"
    },
    "trusted": true
   },
   "outputs": [],
   "source": [
    "text1 = 'Check out my notebook https://www.kaggle.com/campusx/notebook8223fc1abb'\n",
    "text2 = 'Check out my notebook http://www.kaggle.com/campusx/notebook8223fc1abb'\n",
    "text3 = 'Google search here www.google.com'\n",
    "text4 = 'For notebook click https://www.kaggle.com/campusx/notebook8223fc1abb to search check www.google.com'"
   ]
  },
  {
   "cell_type": "code",
   "execution_count": 16,
   "metadata": {
    "execution": {
     "iopub.execute_input": "2025-07-31T05:37:30.408603Z",
     "iopub.status.busy": "2025-07-31T05:37:30.408258Z",
     "iopub.status.idle": "2025-07-31T05:37:30.427970Z",
     "shell.execute_reply": "2025-07-31T05:37:30.426793Z",
     "shell.execute_reply.started": "2025-07-31T05:37:30.408557Z"
    },
    "trusted": true
   },
   "outputs": [
    {
     "data": {
      "text/plain": [
       "'For notebook click  to search check '"
      ]
     },
     "execution_count": 16,
     "metadata": {},
     "output_type": "execute_result"
    }
   ],
   "source": [
    "remove_url(text4)"
   ]
  },
  {
   "cell_type": "markdown",
   "metadata": {},
   "source": [
    "**4. Removing Punctuations**\n",
    "   \n",
    "• What it is: Removing punctuation marks (e.g., periods, commas, exclamation marks, question marks, percentages) from the text.\n",
    "\n",
    "• Why it's done:\n",
    "    ◦ To prevent them from being treated as separate words: When tokenizing, punctuations might become individual tokens, unnecessarily increasing document size and confusing the model.\n",
    "    \n",
    "    ◦ To prevent them from being part of words: Sometimes, punctuation attached to a word can make the system treat it as a unique word (e.g., \"Hello!\" vs. \"Hello\"), which also confuses the model.\n",
    "    \n",
    "    ◦ While usually beneficial, in very rare cases, punctuations might be needed.\n",
    "\n",
    "    \n",
    "• How it's done:\n",
    "    ◦ A simple looping approach can be used, but it's very slow for large datasets.\n",
    "    \n",
    "    ◦ A more efficient and standard technique involves using str.translate and str.maketrans in Python along with the string.punctuation set, which is significantly faster."
   ]
  },
  {
   "cell_type": "code",
   "execution_count": 17,
   "metadata": {
    "execution": {
     "iopub.execute_input": "2025-07-31T05:37:30.430414Z",
     "iopub.status.busy": "2025-07-31T05:37:30.430137Z",
     "iopub.status.idle": "2025-07-31T05:37:30.449908Z",
     "shell.execute_reply": "2025-07-31T05:37:30.448607Z",
     "shell.execute_reply.started": "2025-07-31T05:37:30.430383Z"
    },
    "trusted": true
   },
   "outputs": [
    {
     "data": {
      "text/plain": [
       "'!\"#$%&\\'()*+,-./:;<=>?@[\\\\]^_`{|}~'"
      ]
     },
     "execution_count": 17,
     "metadata": {},
     "output_type": "execute_result"
    }
   ],
   "source": [
    "import string,time\n",
    "string.punctuation"
   ]
  },
  {
   "cell_type": "code",
   "execution_count": 18,
   "metadata": {
    "execution": {
     "iopub.execute_input": "2025-07-31T05:37:30.451596Z",
     "iopub.status.busy": "2025-07-31T05:37:30.451240Z",
     "iopub.status.idle": "2025-07-31T05:37:30.476809Z",
     "shell.execute_reply": "2025-07-31T05:37:30.475501Z",
     "shell.execute_reply.started": "2025-07-31T05:37:30.451539Z"
    },
    "trusted": true
   },
   "outputs": [],
   "source": [
    "exclude = string.punctuation"
   ]
  },
  {
   "cell_type": "code",
   "execution_count": 19,
   "metadata": {
    "execution": {
     "iopub.execute_input": "2025-07-31T05:37:30.479580Z",
     "iopub.status.busy": "2025-07-31T05:37:30.479090Z",
     "iopub.status.idle": "2025-07-31T05:37:30.498341Z",
     "shell.execute_reply": "2025-07-31T05:37:30.496887Z",
     "shell.execute_reply.started": "2025-07-31T05:37:30.479521Z"
    },
    "trusted": true
   },
   "outputs": [],
   "source": [
    "def remove_punc(text):\n",
    "    for char in exclude:\n",
    "        text = text.replace(char,'')\n",
    "    return text\n",
    "        "
   ]
  },
  {
   "cell_type": "code",
   "execution_count": 20,
   "metadata": {
    "execution": {
     "iopub.execute_input": "2025-07-31T05:37:30.500095Z",
     "iopub.status.busy": "2025-07-31T05:37:30.499750Z",
     "iopub.status.idle": "2025-07-31T05:37:30.517851Z",
     "shell.execute_reply": "2025-07-31T05:37:30.516633Z",
     "shell.execute_reply.started": "2025-07-31T05:37:30.500053Z"
    },
    "trusted": true
   },
   "outputs": [],
   "source": [
    "text = 'string. With. Punctuation?'"
   ]
  },
  {
   "cell_type": "code",
   "execution_count": 21,
   "metadata": {
    "execution": {
     "iopub.execute_input": "2025-07-31T05:37:30.519480Z",
     "iopub.status.busy": "2025-07-31T05:37:30.519189Z",
     "iopub.status.idle": "2025-07-31T05:37:30.539499Z",
     "shell.execute_reply": "2025-07-31T05:37:30.537357Z",
     "shell.execute_reply.started": "2025-07-31T05:37:30.519446Z"
    },
    "trusted": true
   },
   "outputs": [
    {
     "name": "stdout",
     "output_type": "stream",
     "text": [
      "string With Punctuation\n",
      "65.86313247680664\n"
     ]
    }
   ],
   "source": [
    "start = time.time()\n",
    "print(remove_punc(text))\n",
    "time1 = time.time() - start\n",
    "print(time1*50000)"
   ]
  },
  {
   "cell_type": "code",
   "execution_count": 22,
   "metadata": {
    "execution": {
     "iopub.execute_input": "2025-07-31T05:37:30.541480Z",
     "iopub.status.busy": "2025-07-31T05:37:30.541119Z",
     "iopub.status.idle": "2025-07-31T05:37:30.561619Z",
     "shell.execute_reply": "2025-07-31T05:37:30.559625Z",
     "shell.execute_reply.started": "2025-07-31T05:37:30.541441Z"
    },
    "trusted": true
   },
   "outputs": [],
   "source": [
    "def remove_punc1(text):\n",
    "    return text.translate(str.maketrans('', '', exclude))"
   ]
  },
  {
   "cell_type": "code",
   "execution_count": 23,
   "metadata": {
    "execution": {
     "iopub.execute_input": "2025-07-31T05:37:30.564076Z",
     "iopub.status.busy": "2025-07-31T05:37:30.563752Z",
     "iopub.status.idle": "2025-07-31T05:37:30.579586Z",
     "shell.execute_reply": "2025-07-31T05:37:30.578434Z",
     "shell.execute_reply.started": "2025-07-31T05:37:30.564044Z"
    },
    "trusted": true
   },
   "outputs": [
    {
     "name": "stdout",
     "output_type": "stream",
     "text": [
      "4.5299530029296875\n"
     ]
    }
   ],
   "source": [
    "start = time.time()\n",
    "remove_punc1(text)\n",
    "time2 = time.time() - start\n",
    "print(time2*50000)"
   ]
  },
  {
   "cell_type": "code",
   "execution_count": 24,
   "metadata": {
    "execution": {
     "iopub.execute_input": "2025-07-31T05:37:30.581506Z",
     "iopub.status.busy": "2025-07-31T05:37:30.581197Z",
     "iopub.status.idle": "2025-07-31T05:37:30.599627Z",
     "shell.execute_reply": "2025-07-31T05:37:30.598462Z",
     "shell.execute_reply.started": "2025-07-31T05:37:30.581465Z"
    },
    "trusted": true
   },
   "outputs": [
    {
     "data": {
      "text/plain": [
       "14.539473684210526"
      ]
     },
     "execution_count": 24,
     "metadata": {},
     "output_type": "execute_result"
    }
   ],
   "source": [
    "time1/time2"
   ]
  },
  {
   "cell_type": "code",
   "execution_count": 25,
   "metadata": {
    "execution": {
     "iopub.execute_input": "2025-07-31T05:37:30.601426Z",
     "iopub.status.busy": "2025-07-31T05:37:30.601045Z",
     "iopub.status.idle": "2025-07-31T05:37:30.622099Z",
     "shell.execute_reply": "2025-07-31T05:37:30.620448Z",
     "shell.execute_reply.started": "2025-07-31T05:37:30.601329Z"
    },
    "trusted": true
   },
   "outputs": [
    {
     "data": {
      "text/plain": [
       "'probably my all-time favorite movie, a story of selflessness, sacrifice and dedication to a noble cause, but it\\'s not preachy or boring. it just never gets old, despite my having seen it some 15 or more times in the last 25 years. paul lukas\\' performance brings tears to my eyes, and bette davis, in one of her very few truly sympathetic roles, is a delight. the kids are, as grandma says, more like \"dressed-up midgets\" than children, but that only makes them more fun to watch. and the mother\\'s slow awakening to what\\'s happening in the world and under her own roof is believable and startling. if i had a dozen thumbs, they\\'d all be \"up\" for this movie.'"
      ]
     },
     "execution_count": 25,
     "metadata": {},
     "output_type": "execute_result"
    }
   ],
   "source": [
    "df['review'][5]"
   ]
  },
  {
   "cell_type": "code",
   "execution_count": 26,
   "metadata": {
    "execution": {
     "iopub.execute_input": "2025-07-31T05:37:30.623814Z",
     "iopub.status.busy": "2025-07-31T05:37:30.623546Z",
     "iopub.status.idle": "2025-07-31T05:37:30.640556Z",
     "shell.execute_reply": "2025-07-31T05:37:30.639408Z",
     "shell.execute_reply.started": "2025-07-31T05:37:30.623749Z"
    },
    "trusted": true
   },
   "outputs": [
    {
     "data": {
      "text/plain": [
       "'probably my alltime favorite movie a story of selflessness sacrifice and dedication to a noble cause but its not preachy or boring it just never gets old despite my having seen it some 15 or more times in the last 25 years paul lukas performance brings tears to my eyes and bette davis in one of her very few truly sympathetic roles is a delight the kids are as grandma says more like dressedup midgets than children but that only makes them more fun to watch and the mothers slow awakening to whats happening in the world and under her own roof is believable and startling if i had a dozen thumbs theyd all be up for this movie'"
      ]
     },
     "execution_count": 26,
     "metadata": {},
     "output_type": "execute_result"
    }
   ],
   "source": [
    "remove_punc1(df['review'][5])"
   ]
  },
  {
   "cell_type": "markdown",
   "metadata": {},
   "source": [
    "**5. Chat Word Treatment (Short Hand Expansions)**\n",
    "   \n",
    "• What it is: Expanding common chat abbreviations or \"short-hands\" (e.g., \"IMHO\" to \"In My Humble Opinion\", \"ASAP\" to \"As Soon As Possible\") to their full forms.\n",
    "\n",
    "• Why it's done: When working with social media or messaging app data (e.g., building a chatbot), these short-hands are common. Expanding them helps the model understand the text more accurately.\n",
    "\n",
    "• How it's done: By creating or utilizing a dictionary mapping short-hands to their full forms, and then replacing them in the text."
   ]
  },
  {
   "cell_type": "code",
   "execution_count": 1,
   "metadata": {
    "execution": {
     "iopub.execute_input": "2025-08-02T06:10:59.113479Z",
     "iopub.status.busy": "2025-08-02T06:10:59.113042Z",
     "iopub.status.idle": "2025-08-02T06:10:59.148163Z",
     "shell.execute_reply": "2025-08-02T06:10:59.147078Z",
     "shell.execute_reply.started": "2025-08-02T06:10:59.113367Z"
    },
    "trusted": true
   },
   "outputs": [],
   "source": [
    "chat_words = {\n",
    "    'WB': 'Welcome Back',\n",
    "    'WTF': 'What the f***',\n",
    "    'LOL': 'Laugh Out Loud',\n",
    "    'BRB': 'Be Right Back',\n",
    "    'TTYL': 'Talk To You Later',\n",
    "    'OMG': 'Oh My God',\n",
    "    'IDK': 'I Don’t Know',\n",
    "    'TBH': 'To Be Honest',\n",
    "    'FYI': 'For Your Information',\n",
    "    'IMO': 'In My Opinion',\n",
    "    'IMHO': 'In My Humble Opinion',\n",
    "    'ROFL': 'Rolling On Floor Laughing',\n",
    "    'LMAO': 'Laughing My A** Off',\n",
    "    'SMH': 'Shaking My Head',\n",
    "    'BTW': 'By The Way',\n",
    "    'GTG': 'Got To Go',\n",
    "    'BFF': 'Best Friends Forever',\n",
    "    'DM': 'Direct Message',\n",
    "    'TMI': 'Too Much Information',\n",
    "    'NSFW': 'Not Safe For Work',\n",
    "    'ICYMI': 'In Case You Missed It',\n",
    "    'IKR': 'I Know, Right?',\n",
    "    'NVM': 'Never Mind',\n",
    "    'TYT': 'Take Your Time',\n",
    "    'AFK': 'Away From Keyboard',\n",
    "    'IDC': 'I Don’t Care',\n",
    "    'JK': 'Just Kidding',\n",
    "    'YOLO': 'You Only Live Once',\n",
    "    'FOMO': 'Fear Of Missing Out',\n",
    "    'GG': 'Good Game',\n",
    "    'NP': 'No Problem',\n",
    "    'TBA': 'To Be Announced',\n",
    "    'TL;DR': 'Too Long; Didn’t Read',\n",
    "    'BFFL': 'Best Friends For Life',\n",
    "    'ILY': 'I Love You',\n",
    "    'CU': 'See You',\n",
    "    'TTYS': 'Talk To You Soon',\n",
    "    'ASAP': 'As Soon As Possible',\n",
    "    'OMW': 'On My Way',\n",
    "    'GR8': 'Great',\n",
    "    'THX': 'Thanks',\n",
    "    'PLZ': 'Please',\n",
    "    'GN': 'Good Night',\n",
    "    'GM': 'Good Morning'\n",
    "}\n"
   ]
  },
  {
   "cell_type": "code",
   "execution_count": 2,
   "metadata": {
    "execution": {
     "iopub.execute_input": "2025-08-02T06:11:04.927043Z",
     "iopub.status.busy": "2025-08-02T06:11:04.926350Z",
     "iopub.status.idle": "2025-08-02T06:11:04.932197Z",
     "shell.execute_reply": "2025-08-02T06:11:04.931292Z",
     "shell.execute_reply.started": "2025-08-02T06:11:04.927004Z"
    },
    "trusted": true
   },
   "outputs": [],
   "source": [
    "def chat_conversion(text):\n",
    "    new_text = []\n",
    "    for w in text.split():\n",
    "        if w.upper() in chat_words:\n",
    "            new_text.append(chat_words[w.upper()])\n",
    "        else:\n",
    "            new_text.append(w)\n",
    "    return \" \".join(new_text)"
   ]
  },
  {
   "cell_type": "code",
   "execution_count": 3,
   "metadata": {
    "execution": {
     "iopub.execute_input": "2025-08-02T06:11:08.877832Z",
     "iopub.status.busy": "2025-08-02T06:11:08.877500Z",
     "iopub.status.idle": "2025-08-02T06:11:08.886296Z",
     "shell.execute_reply": "2025-08-02T06:11:08.885245Z",
     "shell.execute_reply.started": "2025-08-02T06:11:08.877793Z"
    },
    "trusted": true
   },
   "outputs": [
    {
     "data": {
      "text/plain": [
       "'In My Humble Opinion he is the best'"
      ]
     },
     "execution_count": 3,
     "metadata": {},
     "output_type": "execute_result"
    }
   ],
   "source": [
    "chat_conversion('IMHO he is the best')"
   ]
  },
  {
   "cell_type": "code",
   "execution_count": 4,
   "metadata": {
    "execution": {
     "iopub.execute_input": "2025-08-02T06:11:26.878804Z",
     "iopub.status.busy": "2025-08-02T06:11:26.878513Z",
     "iopub.status.idle": "2025-08-02T06:11:26.884938Z",
     "shell.execute_reply": "2025-08-02T06:11:26.883887Z",
     "shell.execute_reply.started": "2025-08-02T06:11:26.878771Z"
    },
    "trusted": true
   },
   "outputs": [
    {
     "data": {
      "text/plain": [
       "'For Your Information delhi is the capital of india'"
      ]
     },
     "execution_count": 4,
     "metadata": {},
     "output_type": "execute_result"
    }
   ],
   "source": [
    "chat_conversion('FYI delhi is the capital of india')"
   ]
  },
  {
   "cell_type": "markdown",
   "metadata": {},
   "source": [
    "**6. Spelling Correction**\n",
    "\n",
    "• What it is: Correcting spelling mistakes in the text.\n",
    "\n",
    "• Why it's done: Due to fast typing or \"fat fingering\" (accidental key presses on small smartphone keyboards), spelling errors are common, especially in social media text. These errors can lead the model to treat misspelled words as unique, causing performance degradation.\n",
    "\n",
    "• How it's done: Libraries like TextBlob or custom spell checkers can be used. TextBlob is effective for common mistakes, but regional words or specific data might require more tailored solutions."
   ]
  },
  {
   "cell_type": "code",
   "execution_count": 32,
   "metadata": {
    "execution": {
     "iopub.execute_input": "2025-07-31T05:43:03.665815Z",
     "iopub.status.busy": "2025-07-31T05:43:03.665452Z",
     "iopub.status.idle": "2025-07-31T05:43:05.625700Z",
     "shell.execute_reply": "2025-07-31T05:43:05.624570Z",
     "shell.execute_reply.started": "2025-07-31T05:43:03.665744Z"
    },
    "trusted": true
   },
   "outputs": [],
   "source": [
    "from textblob import TextBlob"
   ]
  },
  {
   "cell_type": "code",
   "execution_count": 33,
   "metadata": {
    "execution": {
     "iopub.execute_input": "2025-07-31T05:43:07.887425Z",
     "iopub.status.busy": "2025-07-31T05:43:07.887121Z",
     "iopub.status.idle": "2025-07-31T05:43:07.952561Z",
     "shell.execute_reply": "2025-07-31T05:43:07.951307Z",
     "shell.execute_reply.started": "2025-07-31T05:43:07.887395Z"
    },
    "trusted": true
   },
   "outputs": [
    {
     "data": {
      "text/plain": [
       "'certain conditions during several generations are modified in the same manner.'"
      ]
     },
     "execution_count": 33,
     "metadata": {},
     "output_type": "execute_result"
    }
   ],
   "source": [
    "incorrect_text = 'ceertain conditionas duriing seveal ggenerations aree moodified in the saame maner.'\n",
    "\n",
    "textBlb = TextBlob(incorrect_text)\n",
    "\n",
    "textBlb.correct().string"
   ]
  },
  {
   "cell_type": "markdown",
   "metadata": {},
   "source": [
    "**7. Stop Word Removal**\n",
    "\n",
    "• What it is: Eliminating \"stop words\" – common words in a language (like \"the,\" \"a,\" \"is,\" \"and\") that contribute to sentence formation but generally do not add significant meaning to the sentence's core context.\n",
    "\n",
    "• Why it's done: For tasks like sentiment analysis or document classification, removing stop words can reduce noise and improve model focus on more meaningful words.\n",
    "\n",
    "• When not to remove: For tasks like Parts of Speech (POS) tagging or parsing, stop words are crucial for grammatical structure, so they are not removed.\n",
    "\n",
    "• How it's done: The NLTK (Natural Language Toolkit) library provides pre-compiled lists of stop words for various languages, which can be easily used for removal."
   ]
  },
  {
   "cell_type": "code",
   "execution_count": null,
   "metadata": {
    "execution": {
     "iopub.status.busy": "2025-07-31T05:37:30.740920Z",
     "iopub.status.idle": "2025-07-31T05:37:30.741668Z",
     "shell.execute_reply": "2025-07-31T05:37:30.741207Z",
     "shell.execute_reply.started": "2025-07-31T05:37:30.741171Z"
    },
    "trusted": true
   },
   "outputs": [],
   "source": [
    "from nltk.corpus import stopwords"
   ]
  },
  {
   "cell_type": "code",
   "execution_count": null,
   "metadata": {
    "execution": {
     "iopub.status.busy": "2025-07-31T05:37:30.743371Z",
     "iopub.status.idle": "2025-07-31T05:37:30.743740Z",
     "shell.execute_reply": "2025-07-31T05:37:30.743586Z",
     "shell.execute_reply.started": "2025-07-31T05:37:30.743558Z"
    },
    "trusted": true
   },
   "outputs": [],
   "source": [
    "stopwords.words('spanish')"
   ]
  },
  {
   "cell_type": "code",
   "execution_count": null,
   "metadata": {
    "execution": {
     "iopub.status.busy": "2025-07-31T05:37:30.745366Z",
     "iopub.status.idle": "2025-07-31T05:37:30.745907Z",
     "shell.execute_reply": "2025-07-31T05:37:30.745647Z",
     "shell.execute_reply.started": "2025-07-31T05:37:30.745619Z"
    },
    "trusted": true
   },
   "outputs": [],
   "source": [
    "def remove_stopwords(text):\n",
    "    new_text = []\n",
    "    \n",
    "    for word in text.split():\n",
    "        if word in stopwords.words('english'):\n",
    "            new_text.append('')\n",
    "        else:\n",
    "            new_text.append(word)\n",
    "    x = new_text[:]\n",
    "    new_text.clear()\n",
    "    return \" \".join(x)"
   ]
  },
  {
   "cell_type": "code",
   "execution_count": null,
   "metadata": {
    "execution": {
     "iopub.status.busy": "2025-07-31T05:37:30.747353Z",
     "iopub.status.idle": "2025-07-31T05:37:30.747919Z",
     "shell.execute_reply": "2025-07-31T05:37:30.747634Z",
     "shell.execute_reply.started": "2025-07-31T05:37:30.747608Z"
    },
    "trusted": true
   },
   "outputs": [],
   "source": [
    "remove_stopwords('probably my all-time favorite movie, a story of selflessness, sacrifice and dedication to a noble cause, but it\\'s not preachy or boring. it just never gets old, despite my having seen it some 15 or more times')"
   ]
  },
  {
   "cell_type": "code",
   "execution_count": null,
   "metadata": {
    "execution": {
     "iopub.status.busy": "2025-07-31T05:37:30.750387Z",
     "iopub.status.idle": "2025-07-31T05:37:30.750802Z",
     "shell.execute_reply": "2025-07-31T05:37:30.750612Z",
     "shell.execute_reply.started": "2025-07-31T05:37:30.750580Z"
    },
    "trusted": true
   },
   "outputs": [],
   "source": [
    "df.head()"
   ]
  },
  {
   "cell_type": "code",
   "execution_count": null,
   "metadata": {
    "execution": {
     "iopub.status.busy": "2025-07-31T05:37:30.752536Z",
     "iopub.status.idle": "2025-07-31T05:37:30.752940Z",
     "shell.execute_reply": "2025-07-31T05:37:30.752749Z",
     "shell.execute_reply.started": "2025-07-31T05:37:30.752717Z"
    },
    "trusted": true
   },
   "outputs": [],
   "source": [
    "df['review'].apply(remove_stopwords)"
   ]
  },
  {
   "cell_type": "code",
   "execution_count": null,
   "metadata": {
    "trusted": true
   },
   "outputs": [],
   "source": []
  },
  {
   "cell_type": "markdown",
   "metadata": {},
   "source": [
    "**8. Handling Emojis**\n",
    "\n",
    "• What it is: Processing emojis present in the text data.\n",
    "\n",
    "• Why it's done: Emojis are important for expressing emotion in human communication but are not directly understood by machine learning algorithms.\n",
    "\n",
    "• Options:\n",
    "    ◦ Remove Emojis: Simple removal using Regular Expressions.\n",
    "    ◦ Replace with Meaning: Convert emojis into their textual descriptions (e.g., \"😂\" to \"face with tears of joy\").\n",
    "    \n",
    "• How it's done: For replacement, a module like demojize can be used."
   ]
  },
  {
   "cell_type": "code",
   "execution_count": 34,
   "metadata": {
    "execution": {
     "iopub.execute_input": "2025-07-31T05:45:38.583853Z",
     "iopub.status.busy": "2025-07-31T05:45:38.583480Z",
     "iopub.status.idle": "2025-07-31T05:45:38.590389Z",
     "shell.execute_reply": "2025-07-31T05:45:38.589353Z",
     "shell.execute_reply.started": "2025-07-31T05:45:38.583814Z"
    },
    "trusted": true
   },
   "outputs": [],
   "source": [
    "import re\n",
    "def remove_emoji(text):\n",
    "    emoji_pattern = re.compile(\"[\"\n",
    "                           u\"\\U0001F600-\\U0001F64F\"  # emoticons\n",
    "                           u\"\\U0001F300-\\U0001F5FF\"  # symbols & pictographs\n",
    "                           u\"\\U0001F680-\\U0001F6FF\"  # transport & map symbols\n",
    "                           u\"\\U0001F1E0-\\U0001F1FF\"  # flags (iOS)\n",
    "                           u\"\\U00002702-\\U000027B0\"\n",
    "                           u\"\\U000024C2-\\U0001F251\"\n",
    "                           \"]+\", flags=re.UNICODE)\n",
    "    return emoji_pattern.sub(r'', text)"
   ]
  },
  {
   "cell_type": "code",
   "execution_count": 35,
   "metadata": {
    "execution": {
     "iopub.execute_input": "2025-07-31T05:45:41.036144Z",
     "iopub.status.busy": "2025-07-31T05:45:41.035875Z",
     "iopub.status.idle": "2025-07-31T05:45:41.046248Z",
     "shell.execute_reply": "2025-07-31T05:45:41.045105Z",
     "shell.execute_reply.started": "2025-07-31T05:45:41.036117Z"
    },
    "trusted": true
   },
   "outputs": [
    {
     "data": {
      "text/plain": [
       "'Loved the movie. It was '"
      ]
     },
     "execution_count": 35,
     "metadata": {},
     "output_type": "execute_result"
    }
   ],
   "source": [
    "remove_emoji(\"Loved the movie. It was 😘😘\")"
   ]
  },
  {
   "cell_type": "code",
   "execution_count": 36,
   "metadata": {
    "execution": {
     "iopub.execute_input": "2025-07-31T05:45:44.198705Z",
     "iopub.status.busy": "2025-07-31T05:45:44.198382Z",
     "iopub.status.idle": "2025-07-31T05:45:44.205745Z",
     "shell.execute_reply": "2025-07-31T05:45:44.204616Z",
     "shell.execute_reply.started": "2025-07-31T05:45:44.198672Z"
    },
    "trusted": true
   },
   "outputs": [
    {
     "data": {
      "text/plain": [
       "'Lmao '"
      ]
     },
     "execution_count": 36,
     "metadata": {},
     "output_type": "execute_result"
    }
   ],
   "source": [
    "remove_emoji(\"Lmao 😂😂\")"
   ]
  },
  {
   "cell_type": "code",
   "execution_count": 37,
   "metadata": {
    "execution": {
     "iopub.execute_input": "2025-07-31T05:45:46.865178Z",
     "iopub.status.busy": "2025-07-31T05:45:46.864852Z",
     "iopub.status.idle": "2025-07-31T05:45:47.116950Z",
     "shell.execute_reply": "2025-07-31T05:45:47.115749Z",
     "shell.execute_reply.started": "2025-07-31T05:45:46.865130Z"
    },
    "trusted": true
   },
   "outputs": [
    {
     "name": "stdout",
     "output_type": "stream",
     "text": [
      "Python is :fire:\n"
     ]
    }
   ],
   "source": [
    "import emoji\n",
    "print(emoji.demojize('Python is 🔥'))"
   ]
  },
  {
   "cell_type": "code",
   "execution_count": 38,
   "metadata": {
    "execution": {
     "iopub.execute_input": "2025-07-31T05:45:49.506912Z",
     "iopub.status.busy": "2025-07-31T05:45:49.506606Z",
     "iopub.status.idle": "2025-07-31T05:45:49.513275Z",
     "shell.execute_reply": "2025-07-31T05:45:49.512288Z",
     "shell.execute_reply.started": "2025-07-31T05:45:49.506881Z"
    },
    "trusted": true
   },
   "outputs": [
    {
     "name": "stdout",
     "output_type": "stream",
     "text": [
      "Loved the movie. It was :face_blowing_a_kiss:\n"
     ]
    }
   ],
   "source": [
    "print(emoji.demojize('Loved the movie. It was 😘'))"
   ]
  },
  {
   "cell_type": "markdown",
   "metadata": {},
   "source": [
    "### 1. Using the split function"
   ]
  },
  {
   "cell_type": "markdown",
   "metadata": {},
   "source": [
    "**9. Tokenization**\n",
    "    \n",
    "• What it is: The fundamental process of breaking down raw text into smaller, meaningful units called \"tokens\". These tokens can be words, sentences, or even subword units.\n",
    "\n",
    "• Why it's important: It's a crucial precursor to feature engineering. Incorrect tokenization can confuse the model and lead to poor results, especially when trying to extract unique words or other features.\n",
    "\n",
    "• Types:\n",
    "    ◦ Word Tokenization: Breaking text into individual words.\n",
    "    ◦ Sentence Tokenization: Breaking a paragraph into individual sentences.\n",
    "    \n",
    "• Challenges: Tokenization isn't always straightforward due to prefixes, suffixes, infixes, special characters (e.g., \"20$\" should be \"20\" and \"$\"), contractions (e.g., \"I'm\"), and proper nouns (e.g., \"New York\").\n",
    "\n",
    "\n",
    "• Techniques:\n",
    "\n",
    "    ◦ Python's split() function: Simple, works on spaces, but fails in complex scenarios (e.g., \"Delhi!\" splits as \"Delhi!\" not \"Delhi\" and \"!\").\n",
    "    \n",
    "    ◦ Regular Expressions: More sophisticated than split(), allows defining patterns for splitting, offering better control but can still be complex to handle all edge cases.\n",
    "    \n",
    "    ◦ Libraries (NLTK & spaCy): These are the recommended approach.\n",
    "        ▪ NLTK: Provides word_tokenize and sent_tokenize functions with internal algorithms to handle many complexities. However, it can still struggle with certain cases like email IDs being split or incorrect handling of numbers.\n",
    "        ▪ spaCy: Often provides the best tokenization results in observed cases, handling many difficult scenarios more effectively than NLTK (e.g., email IDs, numbers like \"5km\")."
   ]
  },
  {
   "cell_type": "code",
   "execution_count": 39,
   "metadata": {
    "execution": {
     "iopub.execute_input": "2025-07-31T05:47:53.005927Z",
     "iopub.status.busy": "2025-07-31T05:47:53.005565Z",
     "iopub.status.idle": "2025-07-31T05:47:53.012281Z",
     "shell.execute_reply": "2025-07-31T05:47:53.011274Z",
     "shell.execute_reply.started": "2025-07-31T05:47:53.005891Z"
    },
    "trusted": true
   },
   "outputs": [
    {
     "data": {
      "text/plain": [
       "['I', 'am', 'going', 'to', 'delhi']"
      ]
     },
     "execution_count": 39,
     "metadata": {},
     "output_type": "execute_result"
    }
   ],
   "source": [
    "# word tokenization\n",
    "sent1 = 'I am going to delhi'\n",
    "sent1.split()"
   ]
  },
  {
   "cell_type": "code",
   "execution_count": 40,
   "metadata": {
    "execution": {
     "iopub.execute_input": "2025-07-31T05:47:54.556831Z",
     "iopub.status.busy": "2025-07-31T05:47:54.556512Z",
     "iopub.status.idle": "2025-07-31T05:47:54.563612Z",
     "shell.execute_reply": "2025-07-31T05:47:54.562529Z",
     "shell.execute_reply.started": "2025-07-31T05:47:54.556798Z"
    },
    "trusted": true
   },
   "outputs": [
    {
     "data": {
      "text/plain": [
       "['I am going to delhi',\n",
       " ' I will stay there for 3 days',\n",
       " \" Let's hope the trip to be great\"]"
      ]
     },
     "execution_count": 40,
     "metadata": {},
     "output_type": "execute_result"
    }
   ],
   "source": [
    "# sentence tokenization\n",
    "sent2 = 'I am going to delhi. I will stay there for 3 days. Let\\'s hope the trip to be great'\n",
    "sent2.split('.')"
   ]
  },
  {
   "cell_type": "code",
   "execution_count": 41,
   "metadata": {
    "execution": {
     "iopub.execute_input": "2025-07-31T05:48:05.881499Z",
     "iopub.status.busy": "2025-07-31T05:48:05.881163Z",
     "iopub.status.idle": "2025-07-31T05:48:05.888392Z",
     "shell.execute_reply": "2025-07-31T05:48:05.887402Z",
     "shell.execute_reply.started": "2025-07-31T05:48:05.881462Z"
    },
    "trusted": true
   },
   "outputs": [
    {
     "data": {
      "text/plain": [
       "['I', 'am', 'going', 'to', 'delhi!']"
      ]
     },
     "execution_count": 41,
     "metadata": {},
     "output_type": "execute_result"
    }
   ],
   "source": [
    "# Problems with split function\n",
    "sent3 = 'I am going to delhi!'\n",
    "sent3.split()"
   ]
  },
  {
   "cell_type": "code",
   "execution_count": 42,
   "metadata": {
    "execution": {
     "iopub.execute_input": "2025-07-31T05:48:07.010083Z",
     "iopub.status.busy": "2025-07-31T05:48:07.009783Z",
     "iopub.status.idle": "2025-07-31T05:48:07.016924Z",
     "shell.execute_reply": "2025-07-31T05:48:07.015800Z",
     "shell.execute_reply.started": "2025-07-31T05:48:07.010050Z"
    },
    "trusted": true
   },
   "outputs": [
    {
     "data": {
      "text/plain": [
       "['Where do think I should go? I have 3 day holiday']"
      ]
     },
     "execution_count": 42,
     "metadata": {},
     "output_type": "execute_result"
    }
   ],
   "source": [
    "sent4 = 'Where do think I should go? I have 3 day holiday'\n",
    "sent4.split('.')"
   ]
  },
  {
   "cell_type": "markdown",
   "metadata": {},
   "source": [
    "### 2. Regular Expression"
   ]
  },
  {
   "cell_type": "code",
   "execution_count": 43,
   "metadata": {
    "execution": {
     "iopub.execute_input": "2025-07-31T05:48:55.807602Z",
     "iopub.status.busy": "2025-07-31T05:48:55.807312Z",
     "iopub.status.idle": "2025-07-31T05:48:55.815012Z",
     "shell.execute_reply": "2025-07-31T05:48:55.813697Z",
     "shell.execute_reply.started": "2025-07-31T05:48:55.807570Z"
    },
    "trusted": true
   },
   "outputs": [
    {
     "data": {
      "text/plain": [
       "['I', 'am', 'going', 'to', 'delhi']"
      ]
     },
     "execution_count": 43,
     "metadata": {},
     "output_type": "execute_result"
    }
   ],
   "source": [
    "import re\n",
    "sent3 = 'I am going to delhi!'\n",
    "tokens = re.findall(\"[\\w']+\", sent3)\n",
    "tokens"
   ]
  },
  {
   "cell_type": "code",
   "execution_count": 44,
   "metadata": {
    "execution": {
     "iopub.execute_input": "2025-07-31T05:49:01.005452Z",
     "iopub.status.busy": "2025-07-31T05:49:01.005176Z",
     "iopub.status.idle": "2025-07-31T05:49:01.013401Z",
     "shell.execute_reply": "2025-07-31T05:49:01.012274Z",
     "shell.execute_reply.started": "2025-07-31T05:49:01.005424Z"
    },
    "trusted": true
   },
   "outputs": [
    {
     "data": {
      "text/plain": [
       "['Lorem Ipsum is simply dummy text of the printing and typesetting industry',\n",
       " \"\\nLorem Ipsum has been the industry's standard dummy text ever since the 1500s, \\nwhen an unknown printer took a galley of type and scrambled it to make a type specimen book.\"]"
      ]
     },
     "execution_count": 44,
     "metadata": {},
     "output_type": "execute_result"
    }
   ],
   "source": [
    "\n",
    "text = \"\"\"Lorem Ipsum is simply dummy text of the printing and typesetting industry? \n",
    "Lorem Ipsum has been the industry's standard dummy text ever since the 1500s, \n",
    "when an unknown printer took a galley of type and scrambled it to make a type specimen book.\"\"\"\n",
    "sentences = re.compile('[.!?] ').split(text)\n",
    "sentences"
   ]
  },
  {
   "cell_type": "markdown",
   "metadata": {},
   "source": [
    "### 3. NLTK"
   ]
  },
  {
   "cell_type": "code",
   "execution_count": 45,
   "metadata": {
    "execution": {
     "iopub.execute_input": "2025-07-31T05:49:05.750080Z",
     "iopub.status.busy": "2025-07-31T05:49:05.749753Z",
     "iopub.status.idle": "2025-07-31T05:49:05.755229Z",
     "shell.execute_reply": "2025-07-31T05:49:05.754099Z",
     "shell.execute_reply.started": "2025-07-31T05:49:05.750047Z"
    },
    "trusted": true
   },
   "outputs": [],
   "source": [
    "from nltk.tokenize import word_tokenize,sent_tokenize"
   ]
  },
  {
   "cell_type": "code",
   "execution_count": 46,
   "metadata": {
    "execution": {
     "iopub.execute_input": "2025-07-31T05:49:07.824695Z",
     "iopub.status.busy": "2025-07-31T05:49:07.823631Z",
     "iopub.status.idle": "2025-07-31T05:49:07.843751Z",
     "shell.execute_reply": "2025-07-31T05:49:07.842886Z",
     "shell.execute_reply.started": "2025-07-31T05:49:07.824648Z"
    },
    "trusted": true
   },
   "outputs": [
    {
     "data": {
      "text/plain": [
       "['I', 'am', 'going', 'to', 'visit', 'delhi', '!']"
      ]
     },
     "execution_count": 46,
     "metadata": {},
     "output_type": "execute_result"
    }
   ],
   "source": [
    "sent1 = 'I am going to visit delhi!'\n",
    "word_tokenize(sent1)"
   ]
  },
  {
   "cell_type": "code",
   "execution_count": 47,
   "metadata": {
    "execution": {
     "iopub.execute_input": "2025-07-31T05:49:09.978978Z",
     "iopub.status.busy": "2025-07-31T05:49:09.977853Z",
     "iopub.status.idle": "2025-07-31T05:49:09.987080Z",
     "shell.execute_reply": "2025-07-31T05:49:09.985911Z",
     "shell.execute_reply.started": "2025-07-31T05:49:09.978925Z"
    },
    "trusted": true
   },
   "outputs": [
    {
     "data": {
      "text/plain": [
       "['Lorem Ipsum is simply dummy text of the printing and typesetting industry?',\n",
       " \"Lorem Ipsum has been the industry's standard dummy text ever since the 1500s, \\nwhen an unknown printer took a galley of type and scrambled it to make a type specimen book.\"]"
      ]
     },
     "execution_count": 47,
     "metadata": {},
     "output_type": "execute_result"
    }
   ],
   "source": [
    "text = \"\"\"Lorem Ipsum is simply dummy text of the printing and typesetting industry? \n",
    "Lorem Ipsum has been the industry's standard dummy text ever since the 1500s, \n",
    "when an unknown printer took a galley of type and scrambled it to make a type specimen book.\"\"\"\n",
    "\n",
    "sent_tokenize(text)"
   ]
  },
  {
   "cell_type": "code",
   "execution_count": 48,
   "metadata": {
    "execution": {
     "iopub.execute_input": "2025-07-31T05:49:12.081155Z",
     "iopub.status.busy": "2025-07-31T05:49:12.080858Z",
     "iopub.status.idle": "2025-07-31T05:49:12.088426Z",
     "shell.execute_reply": "2025-07-31T05:49:12.087475Z",
     "shell.execute_reply.started": "2025-07-31T05:49:12.081111Z"
    },
    "trusted": true
   },
   "outputs": [
    {
     "data": {
      "text/plain": [
       "['I', 'have', 'a', 'Ph.D', 'in', 'A.I']"
      ]
     },
     "execution_count": 48,
     "metadata": {},
     "output_type": "execute_result"
    }
   ],
   "source": [
    "sent5 = 'I have a Ph.D in A.I'\n",
    "sent6 = \"We're here to help! mail us at nks@gmail.com\"\n",
    "sent7 = 'A 5km ride cost $10.50'\n",
    "\n",
    "word_tokenize(sent5)"
   ]
  },
  {
   "cell_type": "code",
   "execution_count": 49,
   "metadata": {
    "execution": {
     "iopub.execute_input": "2025-07-31T05:49:15.007031Z",
     "iopub.status.busy": "2025-07-31T05:49:15.006703Z",
     "iopub.status.idle": "2025-07-31T05:49:15.014336Z",
     "shell.execute_reply": "2025-07-31T05:49:15.013304Z",
     "shell.execute_reply.started": "2025-07-31T05:49:15.006998Z"
    },
    "trusted": true
   },
   "outputs": [
    {
     "data": {
      "text/plain": [
       "['We',\n",
       " \"'re\",\n",
       " 'here',\n",
       " 'to',\n",
       " 'help',\n",
       " '!',\n",
       " 'mail',\n",
       " 'us',\n",
       " 'at',\n",
       " 'nks',\n",
       " '@',\n",
       " 'gmail.com']"
      ]
     },
     "execution_count": 49,
     "metadata": {},
     "output_type": "execute_result"
    }
   ],
   "source": [
    "word_tokenize(sent6)"
   ]
  },
  {
   "cell_type": "code",
   "execution_count": 50,
   "metadata": {
    "execution": {
     "iopub.execute_input": "2025-07-31T05:49:18.172795Z",
     "iopub.status.busy": "2025-07-31T05:49:18.172479Z",
     "iopub.status.idle": "2025-07-31T05:49:18.179837Z",
     "shell.execute_reply": "2025-07-31T05:49:18.178823Z",
     "shell.execute_reply.started": "2025-07-31T05:49:18.172746Z"
    },
    "trusted": true
   },
   "outputs": [
    {
     "data": {
      "text/plain": [
       "['A', '5km', 'ride', 'cost', '$', '10.50']"
      ]
     },
     "execution_count": 50,
     "metadata": {},
     "output_type": "execute_result"
    }
   ],
   "source": [
    "word_tokenize(sent7)"
   ]
  },
  {
   "cell_type": "markdown",
   "metadata": {},
   "source": [
    "### 4. Spacy"
   ]
  },
  {
   "cell_type": "code",
   "execution_count": 51,
   "metadata": {
    "execution": {
     "iopub.execute_input": "2025-07-31T05:49:21.136233Z",
     "iopub.status.busy": "2025-07-31T05:49:21.135909Z",
     "iopub.status.idle": "2025-07-31T05:49:34.264598Z",
     "shell.execute_reply": "2025-07-31T05:49:34.263259Z",
     "shell.execute_reply.started": "2025-07-31T05:49:21.136193Z"
    },
    "trusted": true
   },
   "outputs": [],
   "source": [
    "import spacy\n",
    "nlp = spacy.load('en_core_web_sm')"
   ]
  },
  {
   "cell_type": "code",
   "execution_count": 52,
   "metadata": {
    "execution": {
     "iopub.execute_input": "2025-07-31T05:49:36.685442Z",
     "iopub.status.busy": "2025-07-31T05:49:36.685092Z",
     "iopub.status.idle": "2025-07-31T05:49:36.734549Z",
     "shell.execute_reply": "2025-07-31T05:49:36.733294Z",
     "shell.execute_reply.started": "2025-07-31T05:49:36.685403Z"
    },
    "trusted": true
   },
   "outputs": [],
   "source": [
    "doc1 = nlp(sent5)\n",
    "doc2 = nlp(sent6)\n",
    "doc3 = nlp(sent7)\n",
    "doc4 = nlp(sent1)"
   ]
  },
  {
   "cell_type": "code",
   "execution_count": 53,
   "metadata": {
    "execution": {
     "iopub.execute_input": "2025-07-31T05:49:37.949067Z",
     "iopub.status.busy": "2025-07-31T05:49:37.948736Z",
     "iopub.status.idle": "2025-07-31T05:49:37.956821Z",
     "shell.execute_reply": "2025-07-31T05:49:37.955677Z",
     "shell.execute_reply.started": "2025-07-31T05:49:37.949028Z"
    },
    "trusted": true
   },
   "outputs": [
    {
     "name": "stdout",
     "output_type": "stream",
     "text": [
      "I\n",
      "am\n",
      "going\n",
      "to\n",
      "visit\n",
      "delhi\n",
      "!\n"
     ]
    }
   ],
   "source": [
    "for token in doc4:\n",
    "    print(token)"
   ]
  },
  {
   "cell_type": "code",
   "execution_count": null,
   "metadata": {
    "trusted": true
   },
   "outputs": [],
   "source": []
  },
  {
   "cell_type": "code",
   "execution_count": null,
   "metadata": {
    "trusted": true
   },
   "outputs": [],
   "source": []
  },
  {
   "cell_type": "code",
   "execution_count": null,
   "metadata": {
    "trusted": true
   },
   "outputs": [],
   "source": []
  },
  {
   "cell_type": "markdown",
   "metadata": {},
   "source": [
    "**10. Stemming and Lemmatization**\n",
    "\n",
    "These two techniques aim to reduce inflected words to their root forms.\n",
    "\n",
    "• Inflexion: A grammatical modification of a word to express different categories like tense, case, voice, etc. (e.g., \"walk,\" \"walking,\" \"walked,\" \"walks\" are inflections of \"work\").\n",
    "\n",
    "• Stemming:\n",
    "    ◦ What it is: The process of reducing inflected words to their \"root\" or \"stem\" form by removing suffixes or prefixes. The stem itself might not be a valid word in the language (e.g., \"probably\" stems to \"probabl\").\n",
    "    \n",
    "    ◦ Why it's used: Most useful in Information Retrieval Systems (like search engines) where searching for \"fish,\" \"fishing,\" or \"fished\" should all return relevant results related to \"fish\".\n",
    "    \n",
    "    ◦ How it's done: Using algorithms called \"stemmers\" (e.g., NLTK's Porter Stemmer for English, Snowball Stemmer for other languages).\n",
    "    \n",
    "    ◦ Caveat: Since the output might not be a real word, it's generally not suitable if the output needs to be displayed to users. It is, however, faster than lemmatization.\n",
    "\n",
    "\n",
    "    \n",
    "**• Lemmatization:**\n",
    "\n",
    "    ◦ What it is: Similar to stemming, it reduces inflected words to their root form, but the crucial difference is that the output (called a \"lemma\") is always a valid word in the language (e.g., \"better\" lemmas to \"good\").\n",
    "    \n",
    "    ◦ How it differs from Stemming: Lemmatization is typically slower than stemming because it relies on a lexical dictionary (like WordNet in NLTK) to find the correct base form, whereas stemming uses algorithmic rules.\n",
    "    \n",
    "    ◦ Why it's used: Preferred when the output needs to be interpretable or displayed to users, or when linguistic accuracy is more important than speed.\n",
    "    \n",
    "    ◦ How it's done: Using tools like NLTK's WordNet Lemmatizer. It's important to specify the Part of Speech (POS) of the word for accurate lemmatization (e.g., whether \"run\" is a verb or a noun)."
   ]
  },
  {
   "cell_type": "code",
   "execution_count": 54,
   "metadata": {
    "execution": {
     "iopub.execute_input": "2025-07-31T05:52:43.048103Z",
     "iopub.status.busy": "2025-07-31T05:52:43.047761Z",
     "iopub.status.idle": "2025-07-31T05:52:43.053183Z",
     "shell.execute_reply": "2025-07-31T05:52:43.052015Z",
     "shell.execute_reply.started": "2025-07-31T05:52:43.048064Z"
    },
    "trusted": true
   },
   "outputs": [],
   "source": [
    "from nltk.stem.porter import PorterStemmer"
   ]
  },
  {
   "cell_type": "code",
   "execution_count": 55,
   "metadata": {
    "execution": {
     "iopub.execute_input": "2025-07-31T05:52:44.299976Z",
     "iopub.status.busy": "2025-07-31T05:52:44.299661Z",
     "iopub.status.idle": "2025-07-31T05:52:44.305437Z",
     "shell.execute_reply": "2025-07-31T05:52:44.304193Z",
     "shell.execute_reply.started": "2025-07-31T05:52:44.299944Z"
    },
    "trusted": true
   },
   "outputs": [],
   "source": [
    "ps = PorterStemmer()\n",
    "def stem_words(text):\n",
    "    return \" \".join([ps.stem(word) for word in text.split()])"
   ]
  },
  {
   "cell_type": "code",
   "execution_count": 56,
   "metadata": {
    "execution": {
     "iopub.execute_input": "2025-07-31T05:52:47.392442Z",
     "iopub.status.busy": "2025-07-31T05:52:47.392072Z",
     "iopub.status.idle": "2025-07-31T05:52:47.400034Z",
     "shell.execute_reply": "2025-07-31T05:52:47.398783Z",
     "shell.execute_reply.started": "2025-07-31T05:52:47.392398Z"
    },
    "trusted": true
   },
   "outputs": [
    {
     "data": {
      "text/plain": [
       "'walk walk walk walk'"
      ]
     },
     "execution_count": 56,
     "metadata": {},
     "output_type": "execute_result"
    }
   ],
   "source": [
    "sample = \"walk walks walking walked\"\n",
    "stem_words(sample)"
   ]
  },
  {
   "cell_type": "code",
   "execution_count": 57,
   "metadata": {
    "execution": {
     "iopub.execute_input": "2025-07-31T05:52:50.046108Z",
     "iopub.status.busy": "2025-07-31T05:52:50.045747Z",
     "iopub.status.idle": "2025-07-31T05:52:50.051935Z",
     "shell.execute_reply": "2025-07-31T05:52:50.050744Z",
     "shell.execute_reply.started": "2025-07-31T05:52:50.046072Z"
    },
    "trusted": true
   },
   "outputs": [
    {
     "name": "stdout",
     "output_type": "stream",
     "text": [
      "probably my alltime favorite movie a story of selflessness sacrifice and dedication to a noble cause but its not preachy or boring it just never gets old despite my having seen it some 15 or more times in the last 25 years paul lukas performance brings tears to my eyes and bette davis in one of her very few truly sympathetic roles is a delight the kids are as grandma says more like dressedup midgets than children but that only makes them more fun to watch and the mothers slow awakening to whats happening in the world and under her own roof is believable and startling if i had a dozen thumbs theyd all be up for this movie\n"
     ]
    }
   ],
   "source": [
    "text = 'probably my alltime favorite movie a story of selflessness sacrifice and dedication to a noble cause but its not preachy or boring it just never gets old despite my having seen it some 15 or more times in the last 25 years paul lukas performance brings tears to my eyes and bette davis in one of her very few truly sympathetic roles is a delight the kids are as grandma says more like dressedup midgets than children but that only makes them more fun to watch and the mothers slow awakening to whats happening in the world and under her own roof is believable and startling if i had a dozen thumbs theyd all be up for this movie'\n",
    "print(text)"
   ]
  },
  {
   "cell_type": "code",
   "execution_count": 58,
   "metadata": {
    "execution": {
     "iopub.execute_input": "2025-07-31T05:52:53.263392Z",
     "iopub.status.busy": "2025-07-31T05:52:53.263083Z",
     "iopub.status.idle": "2025-07-31T05:52:53.273037Z",
     "shell.execute_reply": "2025-07-31T05:52:53.271892Z",
     "shell.execute_reply.started": "2025-07-31T05:52:53.263360Z"
    },
    "trusted": true
   },
   "outputs": [
    {
     "data": {
      "text/plain": [
       "'probabl my alltim favorit movi a stori of selfless sacrific and dedic to a nobl caus but it not preachi or bore it just never get old despit my have seen it some 15 or more time in the last 25 year paul luka perform bring tear to my eye and bett davi in one of her veri few truli sympathet role is a delight the kid are as grandma say more like dressedup midget than children but that onli make them more fun to watch and the mother slow awaken to what happen in the world and under her own roof is believ and startl if i had a dozen thumb theyd all be up for thi movi'"
      ]
     },
     "execution_count": 58,
     "metadata": {},
     "output_type": "execute_result"
    }
   ],
   "source": [
    "stem_words(text)"
   ]
  },
  {
   "cell_type": "code",
   "execution_count": 59,
   "metadata": {
    "execution": {
     "iopub.execute_input": "2025-07-31T05:52:55.957920Z",
     "iopub.status.busy": "2025-07-31T05:52:55.957552Z",
     "iopub.status.idle": "2025-07-31T05:52:57.894232Z",
     "shell.execute_reply": "2025-07-31T05:52:57.893074Z",
     "shell.execute_reply.started": "2025-07-31T05:52:55.957871Z"
    },
    "trusted": true
   },
   "outputs": [
    {
     "name": "stdout",
     "output_type": "stream",
     "text": [
      "Word                Lemma               \n",
      "He                  He                  \n",
      "was                 be                  \n",
      "running             run                 \n",
      "and                 and                 \n",
      "eating              eat                 \n",
      "at                  at                  \n",
      "same                same                \n",
      "time                time                \n",
      "He                  He                  \n",
      "has                 have                \n",
      "bad                 bad                 \n",
      "habit               habit               \n",
      "of                  of                  \n",
      "swimming            swim                \n",
      "after               after               \n",
      "playing             play                \n",
      "long                long                \n",
      "hours               hours               \n",
      "in                  in                  \n",
      "the                 the                 \n",
      "Sun                 Sun                 \n"
     ]
    }
   ],
   "source": [
    "import nltk\n",
    "from nltk.stem import WordNetLemmatizer\n",
    "wordnet_lemmatizer = WordNetLemmatizer()\n",
    "\n",
    "sentence = \"He was running and eating at same time. He has bad habit of swimming after playing long hours in the Sun.\"\n",
    "punctuations=\"?:!.,;\"\n",
    "sentence_words = nltk.word_tokenize(sentence)\n",
    "for word in sentence_words:\n",
    "    if word in punctuations:\n",
    "        sentence_words.remove(word)\n",
    "\n",
    "sentence_words\n",
    "print(\"{0:20}{1:20}\".format(\"Word\",\"Lemma\"))\n",
    "for word in sentence_words:\n",
    "    print (\"{0:20}{1:20}\".format(word,wordnet_lemmatizer.lemmatize(word,pos='v')))"
   ]
  },
  {
   "cell_type": "code",
   "execution_count": null,
   "metadata": {
    "trusted": true
   },
   "outputs": [],
   "source": []
  },
  {
   "cell_type": "code",
   "execution_count": null,
   "metadata": {},
   "outputs": [],
   "source": []
  }
 ],
 "metadata": {
  "kaggle": {
   "accelerator": "none",
   "dataSources": [
    {
     "datasetId": 134715,
     "sourceId": 320111,
     "sourceType": "datasetVersion"
    }
   ],
   "dockerImageVersionId": 30152,
   "isGpuEnabled": false,
   "isInternetEnabled": false,
   "language": "python",
   "sourceType": "notebook"
  },
  "kernelspec": {
   "display_name": "Python 3",
   "language": "python",
   "name": "python3"
  },
  "language_info": {
   "codemirror_mode": {
    "name": "ipython",
    "version": 3
   },
   "file_extension": ".py",
   "mimetype": "text/x-python",
   "name": "python",
   "nbconvert_exporter": "python",
   "pygments_lexer": "ipython3",
   "version": "3.10.0"
  }
 },
 "nbformat": 4,
 "nbformat_minor": 4
}
